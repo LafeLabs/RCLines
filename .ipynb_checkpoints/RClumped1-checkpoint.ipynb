{
 "cells": [
  {
   "cell_type": "code",
   "execution_count": 1,
   "metadata": {
    "collapsed": true
   },
   "outputs": [],
   "source": [
    "%matplotlib inline\n",
    "from pylab import *"
   ]
  },
  {
   "cell_type": "markdown",
   "metadata": {},
   "source": [
    "I consider a series of lumped element RC filters, making many identical poles. Each cell has resistance R, capacitance to ground C, and series inductance L.  There are n of these cells.  To begin I need to compute the ABCD matrix for this whole cell which starts by computing the ABCD matrix for just the RL series combination.  This is a series impedance at frequency f:\n",
    "\n",
    "$Z_{LR} = R + i\\omega L$,\n",
    "\n",
    "where $\\omega = 2\\pi f$."
   ]
  },
  {
   "cell_type": "markdown",
   "metadata": {},
   "source": [
    "From p. 185 of Pozar I can find the ABCD matrix of this as:\n",
    "\n",
    "1 $Z_{LR}$\n",
    "\n",
    "\n",
    "0 1\n",
    "\n",
    " "
   ]
  },
  {
   "cell_type": "markdown",
   "metadata": {},
   "source": [
    "And for a capacitor to ground, from the same page of Pozar the ABCD matrix is \n",
    "\n",
    "  1      0 \n",
    "    \n",
    "  $i\\omega C$  1"
   ]
  },
  {
   "cell_type": "markdown",
   "metadata": {},
   "source": [
    "$A = 1 +  i\\omega C(R + i\\omega L)$\n",
    "\n",
    "$B = R + i\\omega L$\n",
    "\n",
    "$C = i\\omega C$\n",
    "\n",
    "$D = 1$"
   ]
  },
  {
   "cell_type": "markdown",
   "metadata": {},
   "source": [
    "This matrix needs to be raised to the n power, then converted to an S matrix, and finally to a mod squared of S21 to get the throughput of the signal in real units.  With that, it should be possible to optimize lumped element R and C values to get a good filter, then what is needed is a method to create a stonehenge geometry where the support legs of the henge are C's and the top stones are the R's.  All of this can get painted with PMMA salvaged from the trash using nail polish remover, which is then baked and then covered with copper tape and soldered on all sides.  If this is 10 cm long it should be easy to get 20-50 poles or more with awesome heat sinking and a few dozen parallel DC lines. This method can be used to get a direct feedthrough into boxes, which can then connect to coax or DC wires or wire bonds direct to chip or contact directly to a flip chip.  I think I can build this with parts found  in the trash RIGHT NOW.  Also using some folded 3d geometry it should be possible to get hundreds of lines this way, with very compact and effective heat sinking.  BOOM!!!"
   ]
  },
  {
   "cell_type": "code",
   "execution_count": 86,
   "metadata": {
    "collapsed": false
   },
   "outputs": [
    {
     "data": {
      "text/plain": [
       "[<matplotlib.lines.Line2D at 0x106c7d050>]"
      ]
     },
     "execution_count": 86,
     "metadata": {},
     "output_type": "execute_result"
    },
    {
     "data": {
      "image/png": "[encoded data removed]",
      "text/plain": [
       "<matplotlib.figure.Figure at 0x105fe7ad0>"
      ]
     },
     "metadata": {},
     "output_type": "display_data"
    }
   ],
   "source": [
    "f_GHz = linspace(0.1,50,1000) #GHz, a reasonable unit\n",
    "f = 1e9*f_GHz   # f in Hz\n",
    "omega = 2*pi*f  # convert to angular frequency in real units(rad/s)\n",
    "Z_0 = 50   # line impedance 50 Ohms\n",
    "\n",
    "R = 1  #reistance of each cell in ohms\n",
    "C = 10e-12 #capacitance to ground of each cell in farads\n",
    "L = 0.1e-9 #stray inductance of chip resistor in henries\n",
    "n = 100  # number of cells\n",
    "\n",
    "Y_C = 1j*omega*C \n",
    "Z_LR = 1j*omega*L + R\n",
    "\n",
    "ABCD = array( ((1 + Y_C*Z_LR,Z_LR), (Y_C, 1)) )\n",
    "ABCD = ABCD**n\n",
    "\n",
    "S21 = 2/(ABCD[0][0] + ABCD[0][1]/Z_0 + ABCD[1][0]*Z_0 + ABCD[1][1])\n",
    "\n",
    "S21 = 20*log10(abs(S21)) \n",
    "\n",
    "plot(f_GHz,S21)"
   ]
  },
  {
   "cell_type": "code",
   "execution_count": null,
   "metadata": {
    "collapsed": false
   },
   "outputs": [],
   "source": []
  },
  {
   "cell_type": "code",
   "execution_count": null,
   "metadata": {
    "collapsed": true
   },
   "outputs": [],
   "source": []
  }
 ],
 "metadata": {
  "kernelspec": {
   "display_name": "Python 2",
   "language": "python",
   "name": "python2"
  },
  "language_info": {
   "codemirror_mode": {
    "name": "ipython",
    "version": 2
   },
   "file_extension": ".py",
   "mimetype": "text/x-python",
   "name": "python",
   "nbconvert_exporter": "python",
   "pygments_lexer": "ipython2",
   "version": "2.7.10"
  }
 },
 "nbformat": 4,
 "nbformat_minor": 0
}
